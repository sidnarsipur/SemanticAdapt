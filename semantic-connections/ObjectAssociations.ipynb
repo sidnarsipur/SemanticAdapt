{
 "cells": [
  {
   "cell_type": "code",
   "execution_count": 49,
   "metadata": {},
   "outputs": [
    {
     "name": "stderr",
     "output_type": "stream",
     "text": [
      "[nltk_data] Downloading package wordnet to C:\\Users\\apl-\n",
      "[nltk_data]     vr\\AppData\\Roaming\\nltk_data...\n",
      "[nltk_data]   Package wordnet is already up-to-date!\n",
      "[nltk_data] Downloading package omw-1.4 to C:\\Users\\apl-\n",
      "[nltk_data]     vr\\AppData\\Roaming\\nltk_data...\n",
      "[nltk_data]   Package omw-1.4 is already up-to-date!\n"
     ]
    }
   ],
   "source": [
    "import nltk \n",
    "nltk.download(\"wordnet\")\n",
    "nltk.download(\"omw-1.4\")\n",
    "import numpy as np\n",
    "from nltk.corpus import wordnet as wn\n",
    "import pandas as pd"
   ]
  },
  {
   "cell_type": "code",
   "execution_count": 38,
   "metadata": {},
   "outputs": [],
   "source": [
    "def getSynset(term):\n",
    "    synsets = []\n",
    "    synsets.extend(wn.synsets(term))\n",
    "    if len(term) > 1 and len(synsets) == 0: \n",
    "        for subterm in term.split():\n",
    "            synsets.extend(wn.synsets(subterm))\n",
    "    return np.unique(synsets).tolist()\n",
    "def computeSynsetSimilarity(synset1, synset2):\n",
    "    return synset1.path_similarity(synset2)\n",
    "def computeSynsetsSimilarity(synsets1, synsets2):\n",
    "    maxSimilarity = 0\n",
    "    for synset1 in synsets1:\n",
    "        for synset2 in synsets2: \n",
    "            similarity = computeSynsetSimilarity(synset1, synset2)\n",
    "            if similarity == None:\n",
    "                continue\n",
    "            if similarity > maxSimilarity:\n",
    "                maxSimilarity = similarity\n",
    "    return maxSimilarity\n",
    "def getRelated(term):\n",
    "    related = [] \n",
    "    for synset in getSynset(term):\n",
    "        for relatedSynset in synset.hypernyms():\n",
    "            for lemmaName in relatedSynset.lemma_names():\n",
    "                related.append(lemmaName.replace(\"_\", \" \"))\n",
    "        for relatedSynset in synset.instance_hypernyms():\n",
    "            for lemmaName in relatedSynset.lemma_names():\n",
    "                related.append(lemmaName.replace(\"_\", \" \"))\n",
    "        for relatedSynset in synset.hyponyms():\n",
    "            for lemmaName in relatedSynset.lemma_names():\n",
    "                related.append(lemmaName.replace(\"_\", \" \"))\n",
    "        for relatedSynset in synset.instance_hyponyms():\n",
    "            for lemmaName in relatedSynset.lemma_names():\n",
    "                related.append(lemmaName.replace(\"_\", \" \"))\n",
    "        for relatedSynset in synset.member_holonyms():\n",
    "            for lemmaName in relatedSynset.lemma_names():\n",
    "                related.append(lemmaName.replace(\"_\", \" \"))\n",
    "        for relatedSynset in synset.substance_holonyms():\n",
    "            for lemmaName in relatedSynset.lemma_names():\n",
    "                related.append(lemmaName.replace(\"_\", \" \"))\n",
    "        for relatedSynset in synset.part_holonyms():\n",
    "            for lemmaName in relatedSynset.lemma_names():\n",
    "                related.append(lemmaName.replace(\"_\", \" \"))\n",
    "        for relatedSynset in synset.member_meronyms():\n",
    "            for lemmaName in relatedSynset.lemma_names():\n",
    "                related.append(lemmaName.replace(\"_\", \" \"))\n",
    "        for relatedSynset in synset.substance_meronyms():\n",
    "            for lemmaName in relatedSynset.lemma_names():\n",
    "                related.append(lemmaName.replace(\"_\", \" \"))\n",
    "        for relatedSynset in synset.part_meronyms():\n",
    "            for lemmaName in relatedSynset.lemma_names():\n",
    "                related.append(lemmaName.replace(\"_\", \" \"))\n",
    "        for relatedSynset in synset.attributes():\n",
    "            for lemmaName in relatedSynset.lemma_names():\n",
    "                related.append(lemmaName.replace(\"_\", \" \"))\n",
    "        for relatedSynset in synset.entailments():\n",
    "            for lemmaName in relatedSynset.lemma_names():\n",
    "                related.append(lemmaName.replace(\"_\", \" \"))\n",
    "        for relatedSynset in synset.causes():\n",
    "            for lemmaName in relatedSynset.lemma_names():\n",
    "                related.append(lemmaName.replace(\"_\", \" \"))\n",
    "        for relatedSynset in synset.also_sees():\n",
    "            for lemmaName in relatedSynset.lemma_names():\n",
    "                related.append(lemmaName.replace(\"_\", \" \"))\n",
    "        for relatedSynset in synset.verb_groups():\n",
    "            for lemmaName in relatedSynset.lemma_names():\n",
    "                related.append(lemmaName.replace(\"_\", \" \"))\n",
    "        for relatedSynset in synset.similar_tos():\n",
    "            for lemmaName in relatedSynset.lemma_names():\n",
    "                related.append(lemmaName.replace(\"_\", \" \"))\n",
    "    return np.unique(related).tolist()\n",
    "def parseAssociations(fname):\n",
    "    elements = []\n",
    "    for e in open(fname).read().split(\"\\n\"):\n",
    "        info = e.split(\",\")\n",
    "        element = info[0]\n",
    "        associations = []\n",
    "        synsets = []\n",
    "        for association in info[1:]:\n",
    "            if len(association) <= 0:\n",
    "                continue\n",
    "            associations.append(association)\n",
    "            synsets = synsets + getSynset(association)\n",
    "        elements.append({\n",
    "            \"element\": element,\n",
    "            \"associations\": associations,\n",
    "            \"synsets\": synsets\n",
    "        })\n",
    "    return elements"
   ]
  },
  {
   "cell_type": "code",
   "execution_count": 55,
   "metadata": {
    "scrolled": true
   },
   "outputs": [],
   "source": [
    "elementAnchors = parseAssociations(\"AssociationsElementsAnchor.csv\")\n",
    "elementAvoids = parseAssociations(\"AssociationsElementsAvoid.csv\")\n",
    "objAssociations = parseAssociations(\"AssociationsObjects.csv\")"
   ]
  },
  {
   "cell_type": "code",
   "execution_count": 71,
   "metadata": {
    "scrolled": true
   },
   "outputs": [],
   "source": [
    "associations = {}\n",
    "for element in elementAnchors: \n",
    "    associations[element[\"element\"]] = {}\n",
    "    for obj in objAssociations:\n",
    "        associations[element[\"element\"]][obj[\"element\"]] = computeSynsetsSimilarity(element[\"synsets\"], obj[\"synsets\"])\n",
    "pd.DataFrame(associations).to_csv(\"elementObjAnchor.csv\")"
   ]
  },
  {
   "cell_type": "code",
   "execution_count": 70,
   "metadata": {},
   "outputs": [],
   "source": [
    "associations = {}\n",
    "for element in elementAvoids: \n",
    "    associations[element[\"element\"]] = {}\n",
    "    for obj in objAssociations:\n",
    "        associations[element[\"element\"]][obj[\"element\"]] = computeSynsetsSimilarity(element[\"synsets\"], obj[\"synsets\"])\n",
    "pd.DataFrame(associations).to_csv(\"elementObjAvoid.csv\")"
   ]
  },
  {
   "cell_type": "code",
   "execution_count": 3,
   "metadata": {},
   "outputs": [
    {
     "data": {
      "text/plain": [
       "0.1428571428571428"
      ]
     },
     "execution_count": 3,
     "metadata": {},
     "output_type": "execute_result"
    }
   ],
   "source": [
    "import pandas as pd\n",
    "df_avoid = pd.read_csv(\"elementObjAvoid.csv\",index_col=0)\n",
    "df_avoid[\"MusicPlayer\"][\"Computer\"]"
   ]
  }
 ],
 "metadata": {
  "kernelspec": {
   "display_name": "Python 3 (ipykernel)",
   "language": "python",
   "name": "python3"
  },
  "language_info": {
   "codemirror_mode": {
    "name": "ipython",
    "version": 3
   },
   "file_extension": ".py",
   "mimetype": "text/x-python",
   "name": "python",
   "nbconvert_exporter": "python",
   "pygments_lexer": "ipython3",
   "version": "3.9.12"
  }
 },
 "nbformat": 4,
 "nbformat_minor": 4
}
